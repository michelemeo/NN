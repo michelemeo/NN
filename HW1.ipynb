{
 "cells": [
  {
   "cell_type": "markdown",
   "metadata": {
    "id": "sdnnRxTNdyW1"
   },
   "source": [
    "# Neural Networks for Data Science Applications\n",
    "## Mid-term Homework: Implementing a custom activation function\n",
    "\n",
    "**Name**: *Michele Meo*\n",
    "\n",
    "**Matricola**: *1599032*\n",
    "\n",
    "Send the completed notebook before 26/11/2020 back to **simone.scardapane@uniroma1.it** with the object \"[NNDS] Homework_1_\\<id\\>\"."
   ]
  },
  {
   "cell_type": "code",
   "execution_count": 1,
   "metadata": {
    "id": "PEr8qV6-nMuL"
   },
   "outputs": [
    {
     "name": "stdout",
     "output_type": "stream",
     "text": [
      "2.2.0\n"
     ]
    }
   ],
   "source": [
    "import tensorflow as tf\n",
    "print(tf.__version__)"
   ]
  },
  {
   "cell_type": "markdown",
   "metadata": {
    "id": "wAEgygyPfO7b"
   },
   "source": [
    "### Introduction\n",
    "\n",
    "The **exponential linear unit** (ELU) is an activation function defined as [1]:\n",
    "\n",
    "$$\n",
    "\\phi(x) =\n",
    "\\Biggl\\{ \n",
    "\\begin{align} \n",
    "x & \\;\\; \\text{ if } x \\ge 0 \\\\\n",
    "\\alpha \\left(\\exp\\left(x\\right)- 1\\right) & \\;\\; \\text{ otherwise } \n",
    "\\end{align}\n",
    "\\Bigr.\n",
    "\\,,\n",
    "$$\n",
    "\n",
    "where $\\alpha$ is a hyper-parameter. The function is implemented in `tf.keras.layers.ELU` (see the [documentation](https://www.tensorflow.org/api_docs/python/tf/keras/layers/ELU)).\n",
    "\n",
    "The **parametric ELU** (PELU) extends the ELU activation function as [2]:\n",
    "\n",
    "$$\n",
    "\\phi(x) =\n",
    "\\Biggl\\{ \n",
    "\\begin{align} \n",
    "\\frac{\\alpha}{\\beta}x & \\;\\; \\text{ if } x \\ge 0 \\\\\n",
    "\\alpha \\left(\\exp\\Bigl(\\frac{x}{\\beta}\\Bigr)- 1\\right) & \\;\\; \\text{ otherwise } \n",
    "\\end{align}\n",
    "\\Bigr.\n",
    "\\,,\n",
    "$$\n",
    "\n",
    "where the major difference is that $\\alpha,\\beta > 0$ are *trainable* parameters, i.e., a pair of $(\\alpha, \\beta)$ values is trained for each unit in the network."
   ]
  },
  {
   "cell_type": "markdown",
   "metadata": {
    "id": "5u4aF6Z4maHd"
   },
   "source": [
    "### Exercise 1: implement the PELU\n",
    "\n",
    "In TensorFlow, it is possible to implement new layers by subclassing `tf.keras.layers.Layer`:\n",
    "\n",
    "+ [Making new Layers and Models via subclassing](https://www.tensorflow.org/guide/keras/custom_layers_and_models)\n",
    "+ [Custom layers](https://www.tensorflow.org/tutorials/customization/custom_layers)\n",
    "+ [tf.keras.layers.Layer (documentation)](https://www.tensorflow.org/api_docs/python/tf/keras/layers/Layer)\n",
    "\n",
    "**Exercise 1**: *After carefully reading the guides*, complete the following implementation of the PELU activation function."
   ]
  },
  {
   "cell_type": "code",
   "execution_count": 2,
   "metadata": {
    "id": "DfCpFg2xdug_"
   },
   "outputs": [],
   "source": [
    "class PELU(tf.keras.layers.Layer):\n",
    "    def __init__(self, units=32):\n",
    "        super(PELU, self).__init__()\n",
    "        self.units = units\n",
    "\n",
    "    def build(self, input_shape):\n",
    "        \n",
    "        self.alpha = self.add_weight( shape = (self.units,), \n",
    "                                    initializer = tf.keras.initializers.RandomUniform(0.1, 1.),\n",
    "                                    constraint = tf.keras.constraints.NonNeg(),  # avoid negative values during training phase\n",
    "                                    trainable = True)\n",
    "        \n",
    "        self.beta = self.add_weight( shape = (self.units,), \n",
    "                                    initializer = tf.keras.initializers.RandomUniform(0.1, 1.),\n",
    "                                    constraint = tf.keras.constraints.NonNeg(),\n",
    "                                    trainable = True)\n",
    "\n",
    "    def call(self, inputs):\n",
    "        # In order to avoid overflow errors I had to add a 0.1 constant term to each denominator \n",
    "        # in which the beta parameter appears, I even tried with smaller values like 1e-6 but it \n",
    "        # didn't work\n",
    "        \n",
    "        self.a = tf.cast((inputs >= 0), dtype=tf.float32) * ((self.alpha/(self.beta+0.1))*inputs) + \\\n",
    "                    tf.cast((inputs < 0), dtype=tf.float32) * (self.alpha*(tf.exp(inputs/(self.beta+0.1))-1))\n",
    "\n",
    "        return self.a"
   ]
  },
  {
   "cell_type": "markdown",
   "metadata": {
    "id": "o8MEZxqbn8vs"
   },
   "source": [
    "**Hints for a correct implementation**:\n",
    "\n",
    "1. The layer (probably) requires two sets of trainable variables, whose shape depends on the number of units.\n",
    "2. From the definition of the PELU, $\\alpha, \\beta$ are required to be positive in order to ensure differentiability. The simplest way to handle this is to use a [constraint callable](https://www.tensorflow.org/api_docs/python/tf/keras/constraints) when creating the weight (see also the [documentation](https://www.tensorflow.org/api_docs/python/tf/keras/layers/Layer) for `add_weight`)."
   ]
  },
  {
   "cell_type": "markdown",
   "metadata": {
    "id": "-QY0TfCxo9yd"
   },
   "source": [
    "### Exercise 2: some preliminary tests\n",
    "\n",
    "To evaluate your implementation, let us start by creating a single PELU function:"
   ]
  },
  {
   "cell_type": "code",
   "execution_count": 3,
   "metadata": {
    "id": "DFNFXarBe8DV"
   },
   "outputs": [],
   "source": [
    "pelu = PELU(units=1)"
   ]
  },
  {
   "cell_type": "markdown",
   "metadata": {
    "id": "RWY76mEepSgj"
   },
   "source": [
    "**Exercise 2.1**: plot the function using the skeleton code below."
   ]
  },
  {
   "cell_type": "code",
   "execution_count": 4,
   "metadata": {
    "id": "jdK0CyscfDtC"
   },
   "outputs": [
    {
     "data": {
      "text/plain": [
       "[<matplotlib.lines.Line2D at 0x7f431008f310>]"
      ]
     },
     "execution_count": 4,
     "metadata": {},
     "output_type": "execute_result"
    },
    {
     "data": {
      "image/png": "[encoded data removed]",
      "text/plain": [
       "<Figure size 432x288 with 1 Axes>"
      ]
     },
     "metadata": {
      "needs_background": "light"
     },
     "output_type": "display_data"
    }
   ],
   "source": [
    "import matplotlib.pyplot as plt\n",
    "x_range = tf.linspace(-5., 5., 200) # An equispaced grid of 200 points in [-5, +5]\n",
    "y_range = pelu(x_range)\n",
    "\n",
    "plt.plot(x_range.numpy(), y_range.numpy())  # check the pelu shape"
   ]
  },
  {
   "cell_type": "markdown",
   "metadata": {
    "id": "LyGIlR_aqayc"
   },
   "source": [
    "The derivative of a PELU function with respect to the $\\alpha$ parameter is given by [2]:\n",
    "\n",
    "$$\n",
    "\\frac{d\\phi(x)}{d\\alpha} =\n",
    "\\Biggl\\{ \n",
    "\\begin{align} \n",
    "\\frac{x}{\\beta} & \\;\\; \\text{ if } x \\ge 0 \\\\\n",
    " \\left(\\exp\\Bigl(\\frac{x}{\\beta}\\Bigr)- 1\\right) & \\;\\; \\text{ otherwise } \n",
    "\\end{align}\n",
    "\\Bigr.\n",
    "\\,,\n",
    "$$"
   ]
  },
  {
   "cell_type": "markdown",
   "metadata": {
    "id": "GnvkoRVAqwg1"
   },
   "source": [
    "**Exercise 2.2**: using a `tf.GradientTape` object, compute the derivative above using automatic differentiation, and check its correctness up to a certain numerical precision.\n",
    "\n",
    "**Hints for a correct implementation**:\n",
    "\n",
    "1. `tf.GradientTape` allows to compute the derivative *at a single point x*. If you prefer to avoid a loop over all possible points, consider using the `jacobian` function to obtain them in a single pass ([Advanced Automatic Differentiation](https://www.tensorflow.org/guide/advanced_autodiff)).\n",
    "2. Given two tensors x and y, a simple way to compute elementwise similarity up to a certain precision (e.g., $10^{-4}$), is given by `tf.reduce_all(tf.abs(x - y) < 1e-4)`.\n",
    "\n",
    "**Exercise 2.3 (optional)**: try the same for the $\\beta$ parameter (you can check the analytical formula for the gradient in the original paper [2]). **Careful**: the equation in the original paper has a missing $h$ (thanks to Davide Aureli and Federico Siciliano for spotting this). See [the correct derivation](https://www.wolframalpha.com/input/?i=d%28a*%28exp%28h%2Fb%29-1%29%29%2Fdb) on Wolfram Alpha."
   ]
  },
  {
   "cell_type": "code",
   "execution_count": 5,
   "metadata": {},
   "outputs": [
    {
     "data": {
      "text/plain": [
       "<tf.Tensor: shape=(), dtype=bool, numpy=True>"
      ]
     },
     "execution_count": 5,
     "metadata": {},
     "output_type": "execute_result"
    }
   ],
   "source": [
    "# Ex. 2.2: Verifying the gradient w.r.t. alpha obtained from automatic differentiation\n",
    "\n",
    "# Note: the 0.1 const. term addition in the pelu expression must be considered \n",
    "#       also in the evaluation of derivatives not implemented with the automatic differentiation\n",
    "\n",
    "with tf.GradientTape() as t:\n",
    "    y_range = pelu(x_range)\n",
    "\n",
    "y_automatic_grad_alpha = t.jacobian(y_range, pelu.alpha)\n",
    "\n",
    "y_grad_alpha = tf.where(x_range >= 0, \n",
    "                          x = x_range/(pelu.beta+0.1), \n",
    "                          y = tf.exp(x_range/(pelu.beta+0.1))-1)\n",
    "y_grad_alpha = tf.reshape(y_grad_alpha, (-1, 1))\n",
    "\n",
    "tf.reduce_all(tf.abs(y_grad_alpha - y_automatic_grad_alpha) < 1e-4)  # check automatic gradient with the known expression"
   ]
  },
  {
   "cell_type": "code",
   "execution_count": 6,
   "metadata": {},
   "outputs": [
    {
     "data": {
      "text/plain": [
       "<tf.Tensor: shape=(), dtype=bool, numpy=True>"
      ]
     },
     "execution_count": 6,
     "metadata": {},
     "output_type": "execute_result"
    }
   ],
   "source": [
    "# Ex. 2.3: Verifying the gradient w.r.t. beta obtained from automatic differentiation\n",
    "\n",
    "with tf.GradientTape() as t:\n",
    "    y_range = pelu(x_range)\n",
    "\n",
    "y_automatic_grad_beta = t.jacobian(y_range, pelu.beta)\n",
    "\n",
    "y_grad_beta = tf.where(x_range >= 0,\n",
    "                        x = -(pelu.alpha*x_range)/(0.1 + pelu.beta)**2,\n",
    "                        y = -(pelu.alpha*x_range*tf.exp(x_range/(0.1 + pelu.beta)))/(0.1 + pelu.beta)**2)\n",
    "y_grad_beta = tf.reshape(y_grad_beta, (-1, 1))\n",
    "\n",
    "tf.reduce_all(tf.abs(y_grad_beta - y_automatic_grad_beta) < 1e-4)"
   ]
  },
  {
   "cell_type": "markdown",
   "metadata": {
    "id": "7yjnVl6Ysm7F"
   },
   "source": [
    "### Exercise 3: PELU in practice\n",
    "\n",
    "Consider a simple model built with the PELU activation function, as below."
   ]
  },
  {
   "cell_type": "code",
   "execution_count": 7,
   "metadata": {
    "id": "HF5S67DDs7xr"
   },
   "outputs": [],
   "source": [
    "model = tf.keras.Sequential(layers=[\n",
    "      tf.keras.layers.Dense(50),\n",
    "      PELU(50),\n",
    "      tf.keras.layers.Dense(11, activation='softmax')\n",
    "])"
   ]
  },
  {
   "cell_type": "markdown",
   "metadata": {
    "id": "BvVbeTDwtdbu"
   },
   "source": [
    "**Exercise 3**: load any classification dataset, and train the model above (using either a custom training loop or `model.fit(...)`). Additionally, compare with a standard ReLU activation."
   ]
  },
  {
   "cell_type": "code",
   "execution_count": 8,
   "metadata": {},
   "outputs": [],
   "source": [
    "# I decided to use the dataset from second laboratory lecture to implement the training loop\n",
    "\n",
    "import pandas as pd\n",
    "\n",
    "sensorless = pd.read_csv('/home/michele/Projects/DataScience/NN/Lab3/Sensorless_drive_diagnosis.txt',\n",
    "                         header=None, sep=' ')\n",
    "\n",
    "X = sensorless.values[:, 0:-1].astype('float32')\n",
    "y = sensorless.values[:, -1:].astype('int64') - 1"
   ]
  },
  {
   "cell_type": "code",
   "execution_count": 9,
   "metadata": {},
   "outputs": [],
   "source": [
    "from sklearn import model_selection\n",
    "from sklearn.preprocessing import MinMaxScaler  #  I normalize each data feature in the [0,1] range\n",
    "\n",
    "X_tr, X_tst, y_tr, y_tst = model_selection.train_test_split(X, y, stratify=y)\n",
    "\n",
    "scaler = MinMaxScaler()\n",
    "scaler.fit(X_tr)\n",
    "\n",
    "X_tr = scaler.transform(X_tr)\n",
    "X_tst = scaler.transform(X_tst)"
   ]
  },
  {
   "cell_type": "code",
   "execution_count": 10,
   "metadata": {},
   "outputs": [],
   "source": [
    "train_dataset = tf.data.Dataset.from_tensor_slices((X_tr, y_tr)).batch(32)\n",
    "test_dataset = tf.data.Dataset.from_tensor_slices((X_tst, y_tst)).batch(32)"
   ]
  },
  {
   "cell_type": "code",
   "execution_count": 11,
   "metadata": {},
   "outputs": [],
   "source": [
    "cross_entropy = tf.keras.losses.SparseCategoricalCrossentropy()\n",
    "adam = tf.keras.optimizers.Adam(learning_rate=1e-3)  # best performance obtained with Adam optimizer\n",
    "acc = tf.keras.metrics.SparseCategoricalAccuracy()\n",
    "\n",
    "model.compile(optimizer=adam, loss=cross_entropy, metrics=[acc])"
   ]
  },
  {
   "cell_type": "code",
   "execution_count": 12,
   "metadata": {
    "id": "dpHI1HfbzAQF"
   },
   "outputs": [
    {
     "name": "stdout",
     "output_type": "stream",
     "text": [
      "Epoch 1/15\n",
      "1372/1372 [==============================] - 4s 3ms/step - loss: 1.0972 - sparse_categorical_accuracy: 0.6368 - val_loss: 0.5818 - val_sparse_categorical_accuracy: 0.8078\n",
      "Epoch 2/15\n",
      "1372/1372 [==============================] - 3s 2ms/step - loss: 0.5224 - sparse_categorical_accuracy: 0.8173 - val_loss: 0.4535 - val_sparse_categorical_accuracy: 0.8372\n",
      "Epoch 3/15\n",
      "1372/1372 [==============================] - 3s 2ms/step - loss: 0.4370 - sparse_categorical_accuracy: 0.8372 - val_loss: 0.4022 - val_sparse_categorical_accuracy: 0.8428\n",
      "Epoch 4/15\n",
      "1372/1372 [==============================] - 3s 2ms/step - loss: 0.3894 - sparse_categorical_accuracy: 0.8490 - val_loss: 0.3664 - val_sparse_categorical_accuracy: 0.8532\n",
      "Epoch 5/15\n",
      "1372/1372 [==============================] - 5s 3ms/step - loss: 0.3567 - sparse_categorical_accuracy: 0.8608 - val_loss: 0.3362 - val_sparse_categorical_accuracy: 0.8648\n",
      "Epoch 6/15\n",
      "1372/1372 [==============================] - 4s 3ms/step - loss: 0.3346 - sparse_categorical_accuracy: 0.8686 - val_loss: 0.3164 - val_sparse_categorical_accuracy: 0.8711\n",
      "Epoch 7/15\n",
      "1372/1372 [==============================] - 3s 3ms/step - loss: 0.3185 - sparse_categorical_accuracy: 0.8751 - val_loss: 0.3018 - val_sparse_categorical_accuracy: 0.8759\n",
      "Epoch 8/15\n",
      "1372/1372 [==============================] - 4s 3ms/step - loss: 0.3051 - sparse_categorical_accuracy: 0.8810 - val_loss: 0.2899 - val_sparse_categorical_accuracy: 0.8792\n",
      "Epoch 9/15\n",
      "1372/1372 [==============================] - 5s 3ms/step - loss: 0.2937 - sparse_categorical_accuracy: 0.8847 - val_loss: 0.2792 - val_sparse_categorical_accuracy: 0.8833\n",
      "Epoch 10/15\n",
      "1372/1372 [==============================] - 4s 3ms/step - loss: 0.2835 - sparse_categorical_accuracy: 0.8884 - val_loss: 0.2713 - val_sparse_categorical_accuracy: 0.8863\n",
      "Epoch 11/15\n",
      "1372/1372 [==============================] - 4s 3ms/step - loss: 0.2738 - sparse_categorical_accuracy: 0.8921 - val_loss: 0.2608 - val_sparse_categorical_accuracy: 0.8908\n",
      "Epoch 12/15\n",
      "1372/1372 [==============================] - 4s 3ms/step - loss: 0.2646 - sparse_categorical_accuracy: 0.8962 - val_loss: 0.2517 - val_sparse_categorical_accuracy: 0.8948\n",
      "Epoch 13/15\n",
      "1372/1372 [==============================] - 3s 2ms/step - loss: 0.2559 - sparse_categorical_accuracy: 0.8998 - val_loss: 0.2425 - val_sparse_categorical_accuracy: 0.8993\n",
      "Epoch 14/15\n",
      "1372/1372 [==============================] - 3s 2ms/step - loss: 0.2467 - sparse_categorical_accuracy: 0.9043 - val_loss: 0.2327 - val_sparse_categorical_accuracy: 0.9056\n",
      "Epoch 15/15\n",
      "1372/1372 [==============================] - 3s 2ms/step - loss: 0.2362 - sparse_categorical_accuracy: 0.9091 - val_loss: 0.2242 - val_sparse_categorical_accuracy: 0.9115\n"
     ]
    }
   ],
   "source": [
    "history = model.fit(train_dataset, epochs=15, validation_data=test_dataset)  "
   ]
  },
  {
   "cell_type": "code",
   "execution_count": 13,
   "metadata": {},
   "outputs": [],
   "source": [
    "model = tf.keras.Sequential(layers=[\n",
    "                           tf.keras.layers.Dense(50, activation='relu'),\n",
    "                           tf.keras.layers.Dense(11, activation='softmax')])\n",
    "\n",
    "model.compile(optimizer=adam, loss=cross_entropy, metrics=[acc])"
   ]
  },
  {
   "cell_type": "code",
   "execution_count": 14,
   "metadata": {},
   "outputs": [
    {
     "name": "stdout",
     "output_type": "stream",
     "text": [
      "Epoch 1/15\n",
      "1372/1372 [==============================] - 2s 1ms/step - loss: 1.4010 - sparse_categorical_accuracy: 0.6436 - val_loss: 1.0221 - val_sparse_categorical_accuracy: 0.7244\n",
      "Epoch 2/15\n",
      "1372/1372 [==============================] - 2s 1ms/step - loss: 0.8777 - sparse_categorical_accuracy: 0.7525 - val_loss: 0.7513 - val_sparse_categorical_accuracy: 0.8063\n",
      "Epoch 3/15\n",
      "1372/1372 [==============================] - 2s 1ms/step - loss: 0.6881 - sparse_categorical_accuracy: 0.8027 - val_loss: 0.6202 - val_sparse_categorical_accuracy: 0.8207\n",
      "Epoch 4/15\n",
      "1372/1372 [==============================] - 2s 1ms/step - loss: 0.5905 - sparse_categorical_accuracy: 0.8191 - val_loss: 0.5469 - val_sparse_categorical_accuracy: 0.8314\n",
      "Epoch 5/15\n",
      "1372/1372 [==============================] - 2s 1ms/step - loss: 0.5329 - sparse_categorical_accuracy: 0.8289 - val_loss: 0.5014 - val_sparse_categorical_accuracy: 0.8377\n",
      "Epoch 6/15\n",
      "1372/1372 [==============================] - 2s 1ms/step - loss: 0.4948 - sparse_categorical_accuracy: 0.8341 - val_loss: 0.4684 - val_sparse_categorical_accuracy: 0.8424\n",
      "Epoch 7/15\n",
      "1372/1372 [==============================] - 2s 1ms/step - loss: 0.4658 - sparse_categorical_accuracy: 0.8404 - val_loss: 0.4431 - val_sparse_categorical_accuracy: 0.8452\n",
      "Epoch 8/15\n",
      "1372/1372 [==============================] - 2s 1ms/step - loss: 0.4428 - sparse_categorical_accuracy: 0.8444 - val_loss: 0.4231 - val_sparse_categorical_accuracy: 0.8473\n",
      "Epoch 9/15\n",
      "1372/1372 [==============================] - 2s 1ms/step - loss: 0.4243 - sparse_categorical_accuracy: 0.8477 - val_loss: 0.4063 - val_sparse_categorical_accuracy: 0.8508\n",
      "Epoch 10/15\n",
      "1372/1372 [==============================] - 2s 1ms/step - loss: 0.4086 - sparse_categorical_accuracy: 0.8516 - val_loss: 0.3917 - val_sparse_categorical_accuracy: 0.8540\n",
      "Epoch 11/15\n",
      "1372/1372 [==============================] - 2s 1ms/step - loss: 0.3948 - sparse_categorical_accuracy: 0.8555 - val_loss: 0.3787 - val_sparse_categorical_accuracy: 0.8591\n",
      "Epoch 12/15\n",
      "1372/1372 [==============================] - 2s 1ms/step - loss: 0.3825 - sparse_categorical_accuracy: 0.8598 - val_loss: 0.3671 - val_sparse_categorical_accuracy: 0.8651\n",
      "Epoch 13/15\n",
      "1372/1372 [==============================] - 2s 1ms/step - loss: 0.3714 - sparse_categorical_accuracy: 0.8642 - val_loss: 0.3569 - val_sparse_categorical_accuracy: 0.8690\n",
      "Epoch 14/15\n",
      "1372/1372 [==============================] - 2s 1ms/step - loss: 0.3618 - sparse_categorical_accuracy: 0.8672 - val_loss: 0.3484 - val_sparse_categorical_accuracy: 0.8720\n",
      "Epoch 15/15\n",
      "1372/1372 [==============================] - 2s 1ms/step - loss: 0.3536 - sparse_categorical_accuracy: 0.8696 - val_loss: 0.3410 - val_sparse_categorical_accuracy: 0.8749\n"
     ]
    }
   ],
   "source": [
    "history_relu = model.fit(train_dataset, epochs=15, validation_data=test_dataset)"
   ]
  },
  {
   "cell_type": "markdown",
   "metadata": {},
   "source": [
    "I show two plots in which the accuracy value for each epoch is represented: in the first plot a comparison between the accuracy obtained on the train set and on the validation set, in the second plot a comparison between the accuracy obtained on validation set with PELU and ReLU."
   ]
  },
  {
   "cell_type": "code",
   "execution_count": 15,
   "metadata": {},
   "outputs": [
    {
     "data": {
      "image/png": "[encoded data removed]",
      "text/plain": [
       "<Figure size 432x288 with 1 Axes>"
      ]
     },
     "metadata": {
      "needs_background": "light"
     },
     "output_type": "display_data"
    }
   ],
   "source": [
    "plt.plot(range(1, 16), history.history['sparse_categorical_accuracy'], label='train acc')\n",
    "plt.plot(range(1, 16), history.history['val_sparse_categorical_accuracy'], label='validation acc', color='orange')\n",
    "plt.xlabel('Epoch')\n",
    "plt.ylabel('Accuracy')\n",
    "plt.title('Accuracy on Train and Validation (PELU)')\n",
    "plt.legend()\n",
    "plt.show()"
   ]
  },
  {
   "cell_type": "code",
   "execution_count": 16,
   "metadata": {
    "scrolled": true
   },
   "outputs": [
    {
     "data": {
      "image/png": "[encoded data removed]",
      "text/plain": [
       "<Figure size 432x288 with 1 Axes>"
      ]
     },
     "metadata": {
      "needs_background": "light"
     },
     "output_type": "display_data"
    }
   ],
   "source": [
    "plt.plot(range(1, 16), history.history['val_sparse_categorical_accuracy'], label='val acc PELU', color='orange')\n",
    "plt.plot(range(1, 16), history_relu.history['val_sparse_categorical_accuracy'], label='val acc ReLU', color='green')\n",
    "plt.xlabel('Epoch')\n",
    "plt.ylabel('Accuracy')\n",
    "plt.title('PELU vs ReLU')\n",
    "plt.legend()\n",
    "plt.show()"
   ]
  },
  {
   "cell_type": "markdown",
   "metadata": {
    "id": "nkb3cj9r7uUH"
   },
   "source": [
    "### Optional: understanding saving/loading of models"
   ]
  },
  {
   "cell_type": "markdown",
   "metadata": {
    "id": "pEjaJQT06jh9"
   },
   "source": [
    "TensorFlow has several options for saving or loading objects from the disk:\n",
    "\n",
    "1. [Save and load Keras models](https://www.tensorflow.org/guide/keras/save_and_serialize/)\n",
    "\n",
    "In many cases, custom classes require the implementation of a `get_config` / `from_config` functions to define the serialization behaviour.\n",
    "\n",
    "**Exercise 4 (optional)**: implement the `get_config` method and test your implementation as below (taken from the guide on saving and loading models)."
   ]
  },
  {
   "cell_type": "code",
   "execution_count": null,
   "metadata": {
    "id": "voxx7kntvM0W"
   },
   "outputs": [],
   "source": [
    "model.save('pelu_model')\n",
    "del PELU # This is needed to remove any reference to PELU from memory\n",
    "reloaded_model = tf.keras.models.load_model('pelu_model')"
   ]
  },
  {
   "cell_type": "code",
   "execution_count": null,
   "metadata": {
    "id": "838PN8xN0rIW"
   },
   "outputs": [],
   "source": [
    "print(\"Original model:\", model)\n",
    "print(\"Loaded model:\", reloaded_model) # Observe that the object has been dynamically recreated in absence of the configuration options"
   ]
  },
  {
   "cell_type": "markdown",
   "metadata": {
    "id": "Rl9dZ3HambSz"
   },
   "source": [
    "### References\n",
    "\n",
    "[1] Clevert, D.A., Unterthiner, T. and Hochreiter, S., 2015. [Fast and accurate deep network learning by exponential linear units (ELUs)](https://arxiv.org/abs/1511.07289). arXiv preprint arXiv:1511.07289.\n",
    "\n",
    "[2] Trottier, L., Gigu, P. and Chaib-draa, B., 2017. [Parametric exponential linear unit for deep convolutional neural networks](https://arxiv.org/abs/1605.09332). In 2017 16th IEEE International Conference on Machine Learning and Applications (ICMLA) (pp. 207-214). IEEE."
   ]
  }
 ],
 "metadata": {
  "colab": {
   "collapsed_sections": [
    "wAEgygyPfO7b",
    "Rl9dZ3HambSz"
   ],
   "name": "NNDS_Homework_Template.ipynb",
   "provenance": []
  },
  "kernelspec": {
   "display_name": "Python 3",
   "language": "python",
   "name": "python3"
  },
  "language_info": {
   "codemirror_mode": {
    "name": "ipython",
    "version": 3
   },
   "file_extension": ".py",
   "mimetype": "text/x-python",
   "name": "python",
   "nbconvert_exporter": "python",
   "pygments_lexer": "ipython3",
   "version": "3.8.2"
  }
 },
 "nbformat": 4,
 "nbformat_minor": 1
}
